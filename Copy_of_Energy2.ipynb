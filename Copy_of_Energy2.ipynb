{
  "nbformat": 4,
  "nbformat_minor": 0,
  "metadata": {
    "colab": {
      "name": "Copy of Energy2.ipynb",
      "provenance": [],
      "collapsed_sections": [],
      "machine_shape": "hm",
      "include_colab_link": true
    },
    "kernelspec": {
      "name": "python3",
      "display_name": "Python 3"
    }
  },
  "cells": [
    {
      "cell_type": "markdown",
      "metadata": {
        "id": "view-in-github",
        "colab_type": "text"
      },
      "source": [
        "<a href=\"https://colab.research.google.com/github/LisburnLad/Kaggle/blob/master/Copy_of_Energy2.ipynb\" target=\"_parent\"><img src=\"https://colab.research.google.com/assets/colab-badge.svg\" alt=\"Open In Colab\"/></a>"
      ]
    },
    {
      "cell_type": "code",
      "metadata": {
        "id": "jIOgyXFyDQl2",
        "colab_type": "code",
        "outputId": "886d98c2-634b-42ee-892d-042b23a80139",
        "colab": {
          "base_uri": "https://localhost:8080/",
          "height": 34
        }
      },
      "source": [
        "from google.colab import drive\n",
        "drive.mount('/content/gdrive', force_remount=True)\n",
        "root_dir = \"/content/gdrive/My Drive/\"\n",
        "base_dir = root_dir + 'fastai-v3/'"
      ],
      "execution_count": 0,
      "outputs": [
        {
          "output_type": "stream",
          "text": [
            "Mounted at /content/gdrive\n"
          ],
          "name": "stdout"
        }
      ]
    },
    {
      "cell_type": "code",
      "metadata": {
        "id": "bIe8703KjgLF",
        "colab_type": "code",
        "outputId": "3b8f0736-2e0e-4498-de3b-21adeb345c7f",
        "colab": {
          "base_uri": "https://localhost:8080/",
          "height": 51
        }
      },
      "source": [
        "!curl -s https://course.fast.ai/setup/colab | bash"
      ],
      "execution_count": 0,
      "outputs": [
        {
          "output_type": "stream",
          "text": [
            "Updating fastai...\n",
            "Done.\n"
          ],
          "name": "stdout"
        }
      ]
    },
    {
      "cell_type": "code",
      "metadata": {
        "id": "6CXEerPXETta",
        "colab_type": "code",
        "colab": {}
      },
      "source": [
        "import gc\n",
        "from fastai.vision import *"
      ],
      "execution_count": 0,
      "outputs": []
    },
    {
      "cell_type": "code",
      "metadata": {
        "id": "aBDV7LwXrmR2",
        "colab_type": "code",
        "colab": {}
      },
      "source": [
        "google_drive = Path(base_dir)"
      ],
      "execution_count": 0,
      "outputs": []
    },
    {
      "cell_type": "code",
      "metadata": {
        "id": "GnUA9tNaFJme",
        "colab_type": "code",
        "colab": {}
      },
      "source": [
        "# !rm 'energy_utils.py'\n",
        "# !cp '/content/gdrive/My Drive/fastai-v3/energy_utils.py' .\n",
        "# from energy_utils import *"
      ],
      "execution_count": 0,
      "outputs": []
    },
    {
      "cell_type": "code",
      "metadata": {
        "id": "e-LLOFbMnFS3",
        "colab_type": "code",
        "colab": {}
      },
      "source": [
        "import zipfile\n",
        "from sklearn.preprocessing import LabelEncoder\n",
        "\n",
        "\n",
        "label_encoder = LabelEncoder()\n",
        "\n",
        "\n",
        "# unzip the specified file and delete the zip file on completion\n",
        "def unzip_and_delete( aPath, aSourceZip ):\n",
        "  with zipfile.ZipFile(str(aPath/aSourceZip), 'r') as zip_ref:\n",
        "      zip_ref.extractall(str(aPath))  \n",
        "  os.remove(str(aPath/aSourceZip))     \n",
        "\n",
        "# generate additional fields from the date field\n",
        "def add_datepart(df, fldname, drop=True, time=False):\n",
        "    \"Helper function that adds columns relevant to a date.\"\n",
        "    fld = df[fldname]\n",
        "    fld_dtype = fld.dtype\n",
        "    if isinstance(fld_dtype, pd.core.dtypes.dtypes.DatetimeTZDtype):\n",
        "        fld_dtype = np.datetime64\n",
        "\n",
        "    if not np.issubdtype(fld_dtype, np.datetime64):\n",
        "        df[fldname] = fld = pd.to_datetime(fld, infer_datetime_format=True)\n",
        "    targ_pre = re.sub('[Dd]ate$', '', fldname)\n",
        "    # targ_pre = \"\"\n",
        "    attr = ['Year', 'Month', 'Week', 'Day', 'Dayofweek', 'Dayofyear',\n",
        "            'Is_month_end', 'Is_month_start', 'Is_quarter_end', 'Is_quarter_start', 'Is_year_end', 'Is_year_start']\n",
        "    if time: attr = attr + ['Hour', 'Minute', 'Second']\n",
        "    for n in attr: df[targ_pre + n] = getattr(fld.dt, n.lower())\n",
        "    df[targ_pre + 'Elapsed'] = fld.astype(np.int64) // 10 ** 9\n",
        "    if drop: df.drop(fldname, axis=1, inplace=True)   \n",
        "  \n",
        "\n",
        "#Based on this great kernel https://www.kaggle.com/arjanso/reducing-dataframe-memory-size-by-65\n",
        "def reduce_mem_usage(df):\n",
        "    start_mem_usg = df.memory_usage().sum() / 1024**2 \n",
        "    print(\"Memory usage of properties dataframe is :\",start_mem_usg,\" MB\")\n",
        "    NAlist = [] # Keeps track of columns that have missing values filled in. \n",
        "    for col in df.columns:\n",
        "        if df[col].dtype != object:  # Exclude strings            \n",
        "            # Print current column type\n",
        "            print(\"******************************\")\n",
        "            print(\"Column: \",col)\n",
        "            print(\"dtype before: \",df[col].dtype)            \n",
        "            # make variables for Int, max and min\n",
        "            IsInt = False\n",
        "            mx = df[col].max()\n",
        "            mn = df[col].min()\n",
        "            print(\"min for this col: \",mn)\n",
        "            print(\"max for this col: \",mx)\n",
        "            # Integer does not support NA, therefore, NA needs to be filled\n",
        "            if not np.isfinite(df[col]).all(): \n",
        "                NAlist.append(col)\n",
        "                df[col].fillna(mn-1,inplace=True)  \n",
        "                   \n",
        "            # test if column can be converted to an integer\n",
        "            asint = df[col].fillna(0).astype(np.int64)\n",
        "            result = (df[col] - asint)\n",
        "            result = result.sum()\n",
        "            if result > -0.01 and result < 0.01:\n",
        "                IsInt = True            \n",
        "            # Make Integer/unsigned Integer datatypes\n",
        "            if IsInt:\n",
        "                if mn >= 0:\n",
        "                    if mx < 255:\n",
        "                        df[col] = df[col].astype(np.uint8)\n",
        "                    elif mx < 65535:\n",
        "                        df[col] = df[col].astype(np.uint16)\n",
        "                    elif mx < 4294967295:\n",
        "                        df[col] = df[col].astype(np.uint32)\n",
        "                    else:\n",
        "                        df[col] = df[col].astype(np.uint64)\n",
        "                else:\n",
        "                    if mn > np.iinfo(np.int8).min and mx < np.iinfo(np.int8).max:\n",
        "                        df[col] = df[col].astype(np.int8)\n",
        "                    elif mn > np.iinfo(np.int16).min and mx < np.iinfo(np.int16).max:\n",
        "                        df[col] = df[col].astype(np.int16)\n",
        "                    elif mn > np.iinfo(np.int32).min and mx < np.iinfo(np.int32).max:\n",
        "                        df[col] = df[col].astype(np.int32)\n",
        "                    elif mn > np.iinfo(np.int64).min and mx < np.iinfo(np.int64).max:\n",
        "                        df[col] = df[col].astype(np.int64)    \n",
        "            # Make float datatypes 32 bit\n",
        "            else:\n",
        "                df[col] = df[col].astype(np.float32)\n",
        "            \n",
        "            # Print new column type\n",
        "            print(\"dtype after: \",df[col].dtype)\n",
        "            print(\"******************************\")\n",
        "    # Print final result\n",
        "    print(\"___MEMORY USAGE AFTER COMPLETION:___\")\n",
        "    mem_usg = df.memory_usage().sum() / 1024**2 \n",
        "    print(\"Memory usage is: \",mem_usg,\" MB\")\n",
        "    print(\"This is \",100*mem_usg/start_mem_usg,\"% of the initial size\")\n",
        "    return df, NAlist  \n",
        "\n",
        "\n",
        "def create_dataframe( path_energy, aMainZip, aWeatherZip ):\n",
        "\n",
        "  unzip_and_delete( path_energy, aMainZip )\n",
        "  unzip_and_delete( path_energy, aWeatherZip )\n",
        "\n",
        "  building_df = pd.read_csv(path_energy/\"building_metadata.csv\")\n",
        "  weather_train = pd.read_csv(path_energy/\"weather_train.csv\")\n",
        "  main_df = pd.read_csv(path_energy/\"train.csv\")   \n",
        "\n",
        "  main_df = main_df.merge(building_df, left_on = \"building_id\", right_on = \"building_id\", how = \"left\")\n",
        "  main_df = main_df.merge(weather_train, left_on = [\"site_id\", \"timestamp\"], right_on = [\"site_id\", \"timestamp\"]) \n",
        "  \n",
        "  del building_df\n",
        "  del weather_train\n",
        "\n",
        "  # do memory reduction on main columns\n",
        "  main_df, NAlist = reduce_mem_usage(main_df)\n",
        "\n",
        "  # copy the timestamp column to make a new date column\n",
        "  # (easier for the 'add_datepart' function to work with)\n",
        "  main_df['date'] = main_df['timestamp']\n",
        "\n",
        "  # generate extra fields based on the date and time\n",
        "  add_datepart(main_df, \"date\", drop=False, time=True)\n",
        "\n",
        "  # drop minutes and second as they are all zero\n",
        "  main_df.drop('Minute', axis=1, inplace=True)   \n",
        "  main_df.drop('Second', axis=1, inplace=True)    \n",
        "\n",
        "  # drop the date column to make a new one\n",
        "  main_df.drop('date', axis=1, inplace=True)    \n",
        "\n",
        "  # extract the date from the timestamp\n",
        "  main_df['date'] = main_df.timestamp.str.split(' ', expand=True)[0]  \n",
        "\n",
        "  # drop the timestamp column as its now covered by date etc.\n",
        "  main_df.drop('timestamp', axis=1, inplace=True)    \n",
        "\n",
        "  # change the column types to make them have the lowest memory footprint\n",
        "  main_df, NAlist = reduce_mem_usage(main_df)\n",
        " \n",
        "  return main_df    "
      ],
      "execution_count": 0,
      "outputs": []
    },
    {
      "cell_type": "code",
      "metadata": {
        "id": "HqI1BlA7GLzg",
        "colab_type": "code",
        "outputId": "5d6f102c-0cc6-4e84-a012-5c2582761102",
        "colab": {
          "base_uri": "https://localhost:8080/",
          "height": 204
        }
      },
      "source": [
        "path_energy = Config.data_path()/'energy'\n",
        "path_energy.mkdir(parents=True, exist_ok=True) \n",
        "\n",
        "!mkdir -p ~/.kaggle/\n",
        "!cp '/content/gdrive/My Drive/fastai-v3/kaggle.json' ~/.kaggle/    \n",
        "\n",
        "!pip install kaggle --upgrade"
      ],
      "execution_count": 0,
      "outputs": [
        {
          "output_type": "stream",
          "text": [
            "Requirement already up-to-date: kaggle in /usr/local/lib/python3.6/dist-packages (1.5.6)\n",
            "Requirement already satisfied, skipping upgrade: python-dateutil in /usr/local/lib/python3.6/dist-packages (from kaggle) (2.5.3)\n",
            "Requirement already satisfied, skipping upgrade: tqdm in /usr/local/lib/python3.6/dist-packages (from kaggle) (4.28.1)\n",
            "Requirement already satisfied, skipping upgrade: certifi in /usr/local/lib/python3.6/dist-packages (from kaggle) (2019.9.11)\n",
            "Requirement already satisfied, skipping upgrade: python-slugify in /usr/local/lib/python3.6/dist-packages (from kaggle) (3.0.6)\n",
            "Requirement already satisfied, skipping upgrade: six>=1.10 in /usr/local/lib/python3.6/dist-packages (from kaggle) (1.12.0)\n",
            "Requirement already satisfied, skipping upgrade: requests in /usr/local/lib/python3.6/dist-packages (from kaggle) (2.21.0)\n",
            "Requirement already satisfied, skipping upgrade: urllib3<1.25,>=1.21.1 in /usr/local/lib/python3.6/dist-packages (from kaggle) (1.24.3)\n",
            "Requirement already satisfied, skipping upgrade: text-unidecode>=1.3 in /usr/local/lib/python3.6/dist-packages (from python-slugify->kaggle) (1.3)\n",
            "Requirement already satisfied, skipping upgrade: idna<2.9,>=2.5 in /usr/local/lib/python3.6/dist-packages (from requests->kaggle) (2.8)\n",
            "Requirement already satisfied, skipping upgrade: chardet<3.1.0,>=3.0.2 in /usr/local/lib/python3.6/dist-packages (from requests->kaggle) (3.0.4)\n"
          ],
          "name": "stdout"
        }
      ]
    },
    {
      "cell_type": "code",
      "metadata": {
        "id": "njbY6RBXVOMg",
        "colab_type": "code",
        "outputId": "be789e53-7dec-457d-f45f-f6bfed98c823",
        "colab": {
          "base_uri": "https://localhost:8080/",
          "height": 34
        }
      },
      "source": [
        "energy_gdrive_dir = Path(base_dir + 'Energy')\n",
        "os.path.exists(energy_gdrive_dir/'training.pkl')"
      ],
      "execution_count": 0,
      "outputs": [
        {
          "output_type": "execute_result",
          "data": {
            "text/plain": [
              "True"
            ]
          },
          "metadata": {
            "tags": []
          },
          "execution_count": 9
        }
      ]
    },
    {
      "cell_type": "code",
      "metadata": {
        "id": "dgsjxFXVRNWl",
        "colab_type": "code",
        "outputId": "4850a403-19c4-4e41-fc30-d531e68250a7",
        "colab": {
          "base_uri": "https://localhost:8080/",
          "height": 34
        }
      },
      "source": [
        "# test if the preprocessed data already exists\n",
        "train_exists = os.path.exists(energy_gdrive_dir/'training.pkl')\n",
        "test_exists = os.path.exists(energy_gdrive_dir/'testing.pkl')\n",
        "if (not train_exists or not test_exists):  \n",
        "\n",
        "  # download the data from Kaggle\n",
        "  !kaggle competitions download -c ashrae-energy-prediction -p {path_energy} \n",
        "\n",
        "  print(\"Generating test data file\")\n",
        "\n",
        "  # preprocess the data and save to google drive\n",
        "  test = create_dataframe( path_energy, \"test.csv.zip\", \"weather_test.csv.zip\" )  \n",
        "  test.to_pickle(energy_gdrive_dir/'testing.pkl') \n",
        "\n",
        "  # delete the test set for now or we'll run out of memory\n",
        "  del test  \n",
        "  gc.collect()  \n",
        "\n",
        "\n",
        "  print(\"Generating training data file\")\n",
        "\n",
        "  # preprocess the data and save to google drive\n",
        "  train = create_dataframe( path_energy, \"train.csv.zip\", \"weather_train.csv.zip\" )  \n",
        "  train.to_pickle(energy_gdrive_dir/'training.pkl')  \n",
        "\n",
        "else:\n",
        "\n",
        "  # read cleaned data from pickle file\n",
        "  print(\"Reading preprocessed data\")\n",
        "  train = pd.read_pickle(energy_gdrive_dir/'training.pkl')    "
      ],
      "execution_count": 0,
      "outputs": [
        {
          "output_type": "stream",
          "text": [
            "Reading preprocessed data\n"
          ],
          "name": "stdout"
        }
      ]
    },
    {
      "cell_type": "code",
      "metadata": {
        "id": "Yl6sdmXOLTgy",
        "colab_type": "code",
        "outputId": "e4354d25-8b43-4f05-e086-3765fe159a6b",
        "colab": {
          "base_uri": "https://localhost:8080/",
          "height": 309
        }
      },
      "source": [
        "train.head(5)"
      ],
      "execution_count": 0,
      "outputs": [
        {
          "output_type": "execute_result",
          "data": {
            "text/html": [
              "<div>\n",
              "<style scoped>\n",
              "    .dataframe tbody tr th:only-of-type {\n",
              "        vertical-align: middle;\n",
              "    }\n",
              "\n",
              "    .dataframe tbody tr th {\n",
              "        vertical-align: top;\n",
              "    }\n",
              "\n",
              "    .dataframe thead th {\n",
              "        text-align: right;\n",
              "    }\n",
              "</style>\n",
              "<table border=\"1\" class=\"dataframe\">\n",
              "  <thead>\n",
              "    <tr style=\"text-align: right;\">\n",
              "      <th></th>\n",
              "      <th>building_id</th>\n",
              "      <th>meter</th>\n",
              "      <th>timestamp</th>\n",
              "      <th>meter_reading</th>\n",
              "      <th>site_id</th>\n",
              "      <th>primary_use</th>\n",
              "      <th>square_feet</th>\n",
              "      <th>year_built</th>\n",
              "      <th>floor_count</th>\n",
              "      <th>air_temperature</th>\n",
              "      <th>cloud_coverage</th>\n",
              "      <th>dew_temperature</th>\n",
              "      <th>precip_depth_1_hr</th>\n",
              "      <th>sea_level_pressure</th>\n",
              "      <th>wind_direction</th>\n",
              "      <th>wind_speed</th>\n",
              "      <th>Year</th>\n",
              "      <th>Month</th>\n",
              "      <th>Week</th>\n",
              "      <th>Day</th>\n",
              "      <th>Dayofweek</th>\n",
              "      <th>Dayofyear</th>\n",
              "      <th>Is_month_end</th>\n",
              "      <th>Is_month_start</th>\n",
              "      <th>Is_quarter_end</th>\n",
              "      <th>Is_quarter_start</th>\n",
              "      <th>Is_year_end</th>\n",
              "      <th>Is_year_start</th>\n",
              "      <th>Hour</th>\n",
              "      <th>Elapsed</th>\n",
              "      <th>date</th>\n",
              "    </tr>\n",
              "  </thead>\n",
              "  <tbody>\n",
              "    <tr>\n",
              "      <th>0</th>\n",
              "      <td>0</td>\n",
              "      <td>0</td>\n",
              "      <td>2016-01-01 00:00:00</td>\n",
              "      <td>0.0</td>\n",
              "      <td>0</td>\n",
              "      <td>Education</td>\n",
              "      <td>7432</td>\n",
              "      <td>2008</td>\n",
              "      <td>0</td>\n",
              "      <td>25.0</td>\n",
              "      <td>6</td>\n",
              "      <td>20.0</td>\n",
              "      <td>-2</td>\n",
              "      <td>1019.700012</td>\n",
              "      <td>0</td>\n",
              "      <td>0.0</td>\n",
              "      <td>2016</td>\n",
              "      <td>1</td>\n",
              "      <td>53</td>\n",
              "      <td>1</td>\n",
              "      <td>4</td>\n",
              "      <td>1</td>\n",
              "      <td>0</td>\n",
              "      <td>1</td>\n",
              "      <td>0</td>\n",
              "      <td>1</td>\n",
              "      <td>0</td>\n",
              "      <td>1</td>\n",
              "      <td>0</td>\n",
              "      <td>1451606400</td>\n",
              "      <td>2016-01-01</td>\n",
              "    </tr>\n",
              "    <tr>\n",
              "      <th>1</th>\n",
              "      <td>1</td>\n",
              "      <td>0</td>\n",
              "      <td>2016-01-01 00:00:00</td>\n",
              "      <td>0.0</td>\n",
              "      <td>0</td>\n",
              "      <td>Education</td>\n",
              "      <td>2720</td>\n",
              "      <td>2004</td>\n",
              "      <td>0</td>\n",
              "      <td>25.0</td>\n",
              "      <td>6</td>\n",
              "      <td>20.0</td>\n",
              "      <td>-2</td>\n",
              "      <td>1019.700012</td>\n",
              "      <td>0</td>\n",
              "      <td>0.0</td>\n",
              "      <td>2016</td>\n",
              "      <td>1</td>\n",
              "      <td>53</td>\n",
              "      <td>1</td>\n",
              "      <td>4</td>\n",
              "      <td>1</td>\n",
              "      <td>0</td>\n",
              "      <td>1</td>\n",
              "      <td>0</td>\n",
              "      <td>1</td>\n",
              "      <td>0</td>\n",
              "      <td>1</td>\n",
              "      <td>0</td>\n",
              "      <td>1451606400</td>\n",
              "      <td>2016-01-01</td>\n",
              "    </tr>\n",
              "    <tr>\n",
              "      <th>2</th>\n",
              "      <td>2</td>\n",
              "      <td>0</td>\n",
              "      <td>2016-01-01 00:00:00</td>\n",
              "      <td>0.0</td>\n",
              "      <td>0</td>\n",
              "      <td>Education</td>\n",
              "      <td>5376</td>\n",
              "      <td>1991</td>\n",
              "      <td>0</td>\n",
              "      <td>25.0</td>\n",
              "      <td>6</td>\n",
              "      <td>20.0</td>\n",
              "      <td>-2</td>\n",
              "      <td>1019.700012</td>\n",
              "      <td>0</td>\n",
              "      <td>0.0</td>\n",
              "      <td>2016</td>\n",
              "      <td>1</td>\n",
              "      <td>53</td>\n",
              "      <td>1</td>\n",
              "      <td>4</td>\n",
              "      <td>1</td>\n",
              "      <td>0</td>\n",
              "      <td>1</td>\n",
              "      <td>0</td>\n",
              "      <td>1</td>\n",
              "      <td>0</td>\n",
              "      <td>1</td>\n",
              "      <td>0</td>\n",
              "      <td>1451606400</td>\n",
              "      <td>2016-01-01</td>\n",
              "    </tr>\n",
              "    <tr>\n",
              "      <th>3</th>\n",
              "      <td>3</td>\n",
              "      <td>0</td>\n",
              "      <td>2016-01-01 00:00:00</td>\n",
              "      <td>0.0</td>\n",
              "      <td>0</td>\n",
              "      <td>Education</td>\n",
              "      <td>23685</td>\n",
              "      <td>2002</td>\n",
              "      <td>0</td>\n",
              "      <td>25.0</td>\n",
              "      <td>6</td>\n",
              "      <td>20.0</td>\n",
              "      <td>-2</td>\n",
              "      <td>1019.700012</td>\n",
              "      <td>0</td>\n",
              "      <td>0.0</td>\n",
              "      <td>2016</td>\n",
              "      <td>1</td>\n",
              "      <td>53</td>\n",
              "      <td>1</td>\n",
              "      <td>4</td>\n",
              "      <td>1</td>\n",
              "      <td>0</td>\n",
              "      <td>1</td>\n",
              "      <td>0</td>\n",
              "      <td>1</td>\n",
              "      <td>0</td>\n",
              "      <td>1</td>\n",
              "      <td>0</td>\n",
              "      <td>1451606400</td>\n",
              "      <td>2016-01-01</td>\n",
              "    </tr>\n",
              "    <tr>\n",
              "      <th>4</th>\n",
              "      <td>4</td>\n",
              "      <td>0</td>\n",
              "      <td>2016-01-01 00:00:00</td>\n",
              "      <td>0.0</td>\n",
              "      <td>0</td>\n",
              "      <td>Education</td>\n",
              "      <td>116607</td>\n",
              "      <td>1975</td>\n",
              "      <td>0</td>\n",
              "      <td>25.0</td>\n",
              "      <td>6</td>\n",
              "      <td>20.0</td>\n",
              "      <td>-2</td>\n",
              "      <td>1019.700012</td>\n",
              "      <td>0</td>\n",
              "      <td>0.0</td>\n",
              "      <td>2016</td>\n",
              "      <td>1</td>\n",
              "      <td>53</td>\n",
              "      <td>1</td>\n",
              "      <td>4</td>\n",
              "      <td>1</td>\n",
              "      <td>0</td>\n",
              "      <td>1</td>\n",
              "      <td>0</td>\n",
              "      <td>1</td>\n",
              "      <td>0</td>\n",
              "      <td>1</td>\n",
              "      <td>0</td>\n",
              "      <td>1451606400</td>\n",
              "      <td>2016-01-01</td>\n",
              "    </tr>\n",
              "  </tbody>\n",
              "</table>\n",
              "</div>"
            ],
            "text/plain": [
              "   building_id  meter            timestamp  ...  Hour     Elapsed        date\n",
              "0            0      0  2016-01-01 00:00:00  ...     0  1451606400  2016-01-01\n",
              "1            1      0  2016-01-01 00:00:00  ...     0  1451606400  2016-01-01\n",
              "2            2      0  2016-01-01 00:00:00  ...     0  1451606400  2016-01-01\n",
              "3            3      0  2016-01-01 00:00:00  ...     0  1451606400  2016-01-01\n",
              "4            4      0  2016-01-01 00:00:00  ...     0  1451606400  2016-01-01\n",
              "\n",
              "[5 rows x 31 columns]"
            ]
          },
          "metadata": {
            "tags": []
          },
          "execution_count": 11
        }
      ]
    },
    {
      "cell_type": "code",
      "metadata": {
        "id": "lpD5azgVX1xN",
        "colab_type": "code",
        "colab": {}
      },
      "source": [
        "# building_df.columns\n",
        "\n",
        "# Index(['site_id', 'building_id', 'primary_use', 'square_feet', 'year_built',\n",
        "#        'floor_count'],\n",
        "#       dtype='object')"
      ],
      "execution_count": 0,
      "outputs": []
    },
    {
      "cell_type": "code",
      "metadata": {
        "id": "Fd1LaTtYXyQr",
        "colab_type": "code",
        "colab": {}
      },
      "source": [
        "# weather_train.columns\n",
        "\n",
        "# Index(['site_id', 'timestamp', 'air_temperature', 'cloud_coverage',\n",
        "#        'dew_temperature', 'precip_depth_1_hr', 'sea_level_pressure',\n",
        "#        'wind_direction', 'wind_speed'],\n",
        "#       dtype='object')"
      ],
      "execution_count": 0,
      "outputs": []
    },
    {
      "cell_type": "code",
      "metadata": {
        "id": "pjlNLWhtW4gc",
        "colab_type": "code",
        "outputId": "2a18ce58-1b94-457f-88fa-497034fc9385",
        "colab": {
          "base_uri": "https://localhost:8080/",
          "height": 34
        }
      },
      "source": [
        "# test for Null values after the join from the building_df\n",
        "len(train[train.primary_use.isnull()]),len(train[train.year_built.isnull()])"
      ],
      "execution_count": 0,
      "outputs": [
        {
          "output_type": "execute_result",
          "data": {
            "text/plain": [
              "(0, 0)"
            ]
          },
          "metadata": {
            "tags": []
          },
          "execution_count": 14
        }
      ]
    },
    {
      "cell_type": "code",
      "metadata": {
        "id": "7tZjD6rPXWFj",
        "colab_type": "code",
        "outputId": "7b405768-7158-44e2-f981-8739af41c43a",
        "colab": {
          "base_uri": "https://localhost:8080/",
          "height": 34
        }
      },
      "source": [
        "# test for Null values after the join from the weather_df\n",
        "len(train[train.air_temperature.isnull()]),len(train[train.cloud_coverage.isnull()]),len(train[train.wind_speed.isnull()])"
      ],
      "execution_count": 0,
      "outputs": [
        {
          "output_type": "execute_result",
          "data": {
            "text/plain": [
              "(0, 0, 0)"
            ]
          },
          "metadata": {
            "tags": []
          },
          "execution_count": 15
        }
      ]
    },
    {
      "cell_type": "code",
      "metadata": {
        "id": "N81F767xsI7r",
        "colab_type": "code",
        "outputId": "9a816a64-99a2-4c28-ffe9-77dda81a3572",
        "colab": {
          "base_uri": "https://localhost:8080/",
          "height": 561
        }
      },
      "source": [
        "train.isnull().sum()"
      ],
      "execution_count": 0,
      "outputs": [
        {
          "output_type": "execute_result",
          "data": {
            "text/plain": [
              "building_id           0\n",
              "meter                 0\n",
              "timestamp             0\n",
              "meter_reading         0\n",
              "site_id               0\n",
              "primary_use           0\n",
              "square_feet           0\n",
              "year_built            0\n",
              "floor_count           0\n",
              "air_temperature       0\n",
              "cloud_coverage        0\n",
              "dew_temperature       0\n",
              "precip_depth_1_hr     0\n",
              "sea_level_pressure    0\n",
              "wind_direction        0\n",
              "wind_speed            0\n",
              "Year                  0\n",
              "Month                 0\n",
              "Week                  0\n",
              "Day                   0\n",
              "Dayofweek             0\n",
              "Dayofyear             0\n",
              "Is_month_end          0\n",
              "Is_month_start        0\n",
              "Is_quarter_end        0\n",
              "Is_quarter_start      0\n",
              "Is_year_end           0\n",
              "Is_year_start         0\n",
              "Hour                  0\n",
              "Elapsed               0\n",
              "date                  0\n",
              "dtype: int64"
            ]
          },
          "metadata": {
            "tags": []
          },
          "execution_count": 16
        }
      ]
    },
    {
      "cell_type": "code",
      "metadata": {
        "id": "mphcuKxbusiR",
        "colab_type": "code",
        "outputId": "f81e9074-5d1b-46f7-8cad-6f1dd0430802",
        "colab": {
          "base_uri": "https://localhost:8080/",
          "height": 34
        }
      },
      "source": [
        "# how many sites are there:\n",
        "len(train.site_id.unique())"
      ],
      "execution_count": 0,
      "outputs": [
        {
          "output_type": "execute_result",
          "data": {
            "text/plain": [
              "16"
            ]
          },
          "metadata": {
            "tags": []
          },
          "execution_count": 17
        }
      ]
    },
    {
      "cell_type": "code",
      "metadata": {
        "id": "2Tn1Za4AwGpG",
        "colab_type": "code",
        "outputId": "c46585be-a55a-4e6b-e942-906ebd2c4371",
        "colab": {
          "base_uri": "https://localhost:8080/",
          "height": 34
        }
      },
      "source": [
        "# how can there be 19 unique floor counts when there are only 16 sites?\n",
        "# - because each site can have more than one building\n",
        "len(train.floor_count.unique())"
      ],
      "execution_count": 0,
      "outputs": [
        {
          "output_type": "execute_result",
          "data": {
            "text/plain": [
              "19"
            ]
          },
          "metadata": {
            "tags": []
          },
          "execution_count": 18
        }
      ]
    },
    {
      "cell_type": "code",
      "metadata": {
        "id": "L-APTXiDWiWz",
        "colab_type": "code",
        "outputId": "78ee20a9-55a0-4df1-86db-fd619031f9db",
        "colab": {
          "base_uri": "https://localhost:8080/",
          "height": 34
        }
      },
      "source": [
        "train.site_id.unique()"
      ],
      "execution_count": 0,
      "outputs": [
        {
          "output_type": "execute_result",
          "data": {
            "text/plain": [
              "array([ 0,  1,  2,  3,  7,  8, 11, 12, 13,  4,  5,  6,  9, 10, 14, 15], dtype=uint64)"
            ]
          },
          "metadata": {
            "tags": []
          },
          "execution_count": 19
        }
      ]
    },
    {
      "cell_type": "code",
      "metadata": {
        "id": "952Kg6kBXUKp",
        "colab_type": "code",
        "outputId": "1065d5f3-85c9-4f7c-8b17-baa4adba8f7f",
        "colab": {
          "base_uri": "https://localhost:8080/",
          "height": 340
        }
      },
      "source": [
        "for site in train.site_id.unique():  \n",
        "  # print(site,\":\",train.loc[train.site_id==site,\"floor_count\"].unique())\n",
        "  print(site,\":\",train.loc[train.site_id==site,\"building_id\"].unique())"
      ],
      "execution_count": 0,
      "outputs": [
        {
          "output_type": "stream",
          "text": [
            "0 : [  0   1   2   3 ... 103 104  29  48]\n",
            "1 : [105 106 107 108 ... 152 153 154 155]\n",
            "2 : [156 157 158 159 ... 287 288 289 290]\n",
            "3 : [291 292 293 294 ... 299 528 555 403]\n",
            "7 : [789 790 791 792 793 794 795 796 797 798 799 800 801 802 803]\n",
            "8 : [804 805 806 807 ... 872 873 829 839]\n",
            "11 : [1029 1030 1031 1032 1028]\n",
            "12 : [1033 1034 1035 1036 1037 1038 1039 1040 1041 1042 1043 1044 1045 1046 1047 1048 1049 1050 1051 1052 1053 1054 1055\n",
            " 1056 1057 1058 1059 1060 1061 1062 1063 1064 1065 1066 1067 1068]\n",
            "13 : [1069 1070 1071 1072 ... 1219 1220 1221 1222]\n",
            "4 : [565 566 569 570 ... 568 567 621 591]\n",
            "5 : [656 657 658 659 ... 741 742 743 744]\n",
            "6 : [745 746 747 748 749 750 751 753 754 755 756 757 758 759 760 761 762 764 765 766 767 768 769 770 771 772 773 774 775\n",
            " 776 777 778 779 780 781 782 784 785 787 788 752 763 786 783]\n",
            "9 : [874 875 876 877 ... 996 997 943 909]\n",
            "10 : [ 998  999 1000 1001 1002 1003 1004 1005 1006 1007 1008 1009 1010 1011 1012 1013 1014 1015 1016 1017 1018 1019 1020\n",
            " 1021 1022 1023 1024 1025 1026 1027]\n",
            "14 : [1223 1224 1225 1226 ... 1322 1323 1324 1281]\n",
            "15 : [1325 1326 1327 1328 ... 1445 1446 1447 1448]\n"
          ],
          "name": "stdout"
        }
      ]
    },
    {
      "cell_type": "code",
      "metadata": {
        "id": "yM0XkpdThfMe",
        "colab_type": "code",
        "outputId": "22bfb41a-0727-4bac-d5f4-59f1c8d0400b",
        "colab": {
          "base_uri": "https://localhost:8080/",
          "height": 34
        }
      },
      "source": [
        "train.Hour.unique()"
      ],
      "execution_count": 0,
      "outputs": [
        {
          "output_type": "execute_result",
          "data": {
            "text/plain": [
              "array([ 0,  1,  2,  3,  4,  5,  6,  7,  8,  9, 10, 11, 12, 13, 14, 15, 16, 17, 18, 19, 20, 21, 22, 23], dtype=uint64)"
            ]
          },
          "metadata": {
            "tags": []
          },
          "execution_count": 21
        }
      ]
    },
    {
      "cell_type": "code",
      "metadata": {
        "id": "gxI9kMrfcF3f",
        "colab_type": "code",
        "outputId": "a6242ff3-483c-4489-a0f8-1647d62102d2",
        "colab": {
          "base_uri": "https://localhost:8080/",
          "height": 34
        }
      },
      "source": [
        "# how many date readings are there for site_id 0\n",
        "len(train.loc[train.site_id==0,\"date\"].unique())"
      ],
      "execution_count": 0,
      "outputs": [
        {
          "output_type": "execute_result",
          "data": {
            "text/plain": [
              "366"
            ]
          },
          "metadata": {
            "tags": []
          },
          "execution_count": 22
        }
      ]
    },
    {
      "cell_type": "code",
      "metadata": {
        "id": "3wekDdzgfC8_",
        "colab_type": "code",
        "colab": {}
      },
      "source": [
        "# arrange the data from oldest to newest\n",
        "train = train.sort_values(['building_id', 'date', 'Hour'], ascending=[True, True, True])"
      ],
      "execution_count": 0,
      "outputs": []
    },
    {
      "cell_type": "code",
      "metadata": {
        "id": "3vwumRRZfOLK",
        "colab_type": "code",
        "outputId": "8415c62b-00f6-43f9-a57d-1b0794bd6e4e",
        "colab": {
          "base_uri": "https://localhost:8080/",
          "height": 309
        }
      },
      "source": [
        "train.head(5)"
      ],
      "execution_count": 0,
      "outputs": [
        {
          "output_type": "execute_result",
          "data": {
            "text/html": [
              "<div>\n",
              "<style scoped>\n",
              "    .dataframe tbody tr th:only-of-type {\n",
              "        vertical-align: middle;\n",
              "    }\n",
              "\n",
              "    .dataframe tbody tr th {\n",
              "        vertical-align: top;\n",
              "    }\n",
              "\n",
              "    .dataframe thead th {\n",
              "        text-align: right;\n",
              "    }\n",
              "</style>\n",
              "<table border=\"1\" class=\"dataframe\">\n",
              "  <thead>\n",
              "    <tr style=\"text-align: right;\">\n",
              "      <th></th>\n",
              "      <th>building_id</th>\n",
              "      <th>meter</th>\n",
              "      <th>timestamp</th>\n",
              "      <th>meter_reading</th>\n",
              "      <th>site_id</th>\n",
              "      <th>primary_use</th>\n",
              "      <th>square_feet</th>\n",
              "      <th>year_built</th>\n",
              "      <th>floor_count</th>\n",
              "      <th>air_temperature</th>\n",
              "      <th>cloud_coverage</th>\n",
              "      <th>dew_temperature</th>\n",
              "      <th>precip_depth_1_hr</th>\n",
              "      <th>sea_level_pressure</th>\n",
              "      <th>wind_direction</th>\n",
              "      <th>wind_speed</th>\n",
              "      <th>Year</th>\n",
              "      <th>Month</th>\n",
              "      <th>Week</th>\n",
              "      <th>Day</th>\n",
              "      <th>Dayofweek</th>\n",
              "      <th>Dayofyear</th>\n",
              "      <th>Is_month_end</th>\n",
              "      <th>Is_month_start</th>\n",
              "      <th>Is_quarter_end</th>\n",
              "      <th>Is_quarter_start</th>\n",
              "      <th>Is_year_end</th>\n",
              "      <th>Is_year_start</th>\n",
              "      <th>Hour</th>\n",
              "      <th>Elapsed</th>\n",
              "      <th>date</th>\n",
              "    </tr>\n",
              "  </thead>\n",
              "  <tbody>\n",
              "    <tr>\n",
              "      <th>0</th>\n",
              "      <td>0</td>\n",
              "      <td>0</td>\n",
              "      <td>2016-01-01 00:00:00</td>\n",
              "      <td>0.0</td>\n",
              "      <td>0</td>\n",
              "      <td>Education</td>\n",
              "      <td>7432</td>\n",
              "      <td>2008</td>\n",
              "      <td>0</td>\n",
              "      <td>25.000000</td>\n",
              "      <td>6</td>\n",
              "      <td>20.0</td>\n",
              "      <td>-2</td>\n",
              "      <td>1019.700012</td>\n",
              "      <td>0</td>\n",
              "      <td>0.0</td>\n",
              "      <td>2016</td>\n",
              "      <td>1</td>\n",
              "      <td>53</td>\n",
              "      <td>1</td>\n",
              "      <td>4</td>\n",
              "      <td>1</td>\n",
              "      <td>0</td>\n",
              "      <td>1</td>\n",
              "      <td>0</td>\n",
              "      <td>1</td>\n",
              "      <td>0</td>\n",
              "      <td>1</td>\n",
              "      <td>0</td>\n",
              "      <td>1451606400</td>\n",
              "      <td>2016-01-01</td>\n",
              "    </tr>\n",
              "    <tr>\n",
              "      <th>1187</th>\n",
              "      <td>0</td>\n",
              "      <td>0</td>\n",
              "      <td>2016-01-01 01:00:00</td>\n",
              "      <td>0.0</td>\n",
              "      <td>0</td>\n",
              "      <td>Education</td>\n",
              "      <td>7432</td>\n",
              "      <td>2008</td>\n",
              "      <td>0</td>\n",
              "      <td>24.400000</td>\n",
              "      <td>255</td>\n",
              "      <td>21.1</td>\n",
              "      <td>-1</td>\n",
              "      <td>1020.200012</td>\n",
              "      <td>70</td>\n",
              "      <td>1.5</td>\n",
              "      <td>2016</td>\n",
              "      <td>1</td>\n",
              "      <td>53</td>\n",
              "      <td>1</td>\n",
              "      <td>4</td>\n",
              "      <td>1</td>\n",
              "      <td>0</td>\n",
              "      <td>1</td>\n",
              "      <td>0</td>\n",
              "      <td>1</td>\n",
              "      <td>0</td>\n",
              "      <td>1</td>\n",
              "      <td>1</td>\n",
              "      <td>1451610000</td>\n",
              "      <td>2016-01-01</td>\n",
              "    </tr>\n",
              "    <tr>\n",
              "      <th>3480</th>\n",
              "      <td>0</td>\n",
              "      <td>0</td>\n",
              "      <td>2016-01-01 02:00:00</td>\n",
              "      <td>0.0</td>\n",
              "      <td>0</td>\n",
              "      <td>Education</td>\n",
              "      <td>7432</td>\n",
              "      <td>2008</td>\n",
              "      <td>0</td>\n",
              "      <td>22.799999</td>\n",
              "      <td>2</td>\n",
              "      <td>21.1</td>\n",
              "      <td>0</td>\n",
              "      <td>1020.200012</td>\n",
              "      <td>0</td>\n",
              "      <td>0.0</td>\n",
              "      <td>2016</td>\n",
              "      <td>1</td>\n",
              "      <td>53</td>\n",
              "      <td>1</td>\n",
              "      <td>4</td>\n",
              "      <td>1</td>\n",
              "      <td>0</td>\n",
              "      <td>1</td>\n",
              "      <td>0</td>\n",
              "      <td>1</td>\n",
              "      <td>0</td>\n",
              "      <td>1</td>\n",
              "      <td>2</td>\n",
              "      <td>1451613600</td>\n",
              "      <td>2016-01-01</td>\n",
              "    </tr>\n",
              "    <tr>\n",
              "      <th>5779</th>\n",
              "      <td>0</td>\n",
              "      <td>0</td>\n",
              "      <td>2016-01-01 03:00:00</td>\n",
              "      <td>0.0</td>\n",
              "      <td>0</td>\n",
              "      <td>Education</td>\n",
              "      <td>7432</td>\n",
              "      <td>2008</td>\n",
              "      <td>0</td>\n",
              "      <td>21.100000</td>\n",
              "      <td>2</td>\n",
              "      <td>20.6</td>\n",
              "      <td>0</td>\n",
              "      <td>1020.099976</td>\n",
              "      <td>0</td>\n",
              "      <td>0.0</td>\n",
              "      <td>2016</td>\n",
              "      <td>1</td>\n",
              "      <td>53</td>\n",
              "      <td>1</td>\n",
              "      <td>4</td>\n",
              "      <td>1</td>\n",
              "      <td>0</td>\n",
              "      <td>1</td>\n",
              "      <td>0</td>\n",
              "      <td>1</td>\n",
              "      <td>0</td>\n",
              "      <td>1</td>\n",
              "      <td>3</td>\n",
              "      <td>1451617200</td>\n",
              "      <td>2016-01-01</td>\n",
              "    </tr>\n",
              "    <tr>\n",
              "      <th>8075</th>\n",
              "      <td>0</td>\n",
              "      <td>0</td>\n",
              "      <td>2016-01-01 04:00:00</td>\n",
              "      <td>0.0</td>\n",
              "      <td>0</td>\n",
              "      <td>Education</td>\n",
              "      <td>7432</td>\n",
              "      <td>2008</td>\n",
              "      <td>0</td>\n",
              "      <td>20.000000</td>\n",
              "      <td>2</td>\n",
              "      <td>20.0</td>\n",
              "      <td>-1</td>\n",
              "      <td>1020.000000</td>\n",
              "      <td>250</td>\n",
              "      <td>2.6</td>\n",
              "      <td>2016</td>\n",
              "      <td>1</td>\n",
              "      <td>53</td>\n",
              "      <td>1</td>\n",
              "      <td>4</td>\n",
              "      <td>1</td>\n",
              "      <td>0</td>\n",
              "      <td>1</td>\n",
              "      <td>0</td>\n",
              "      <td>1</td>\n",
              "      <td>0</td>\n",
              "      <td>1</td>\n",
              "      <td>4</td>\n",
              "      <td>1451620800</td>\n",
              "      <td>2016-01-01</td>\n",
              "    </tr>\n",
              "  </tbody>\n",
              "</table>\n",
              "</div>"
            ],
            "text/plain": [
              "      building_id  meter            timestamp  ...  Hour     Elapsed        date\n",
              "0               0      0  2016-01-01 00:00:00  ...     0  1451606400  2016-01-01\n",
              "1187            0      0  2016-01-01 01:00:00  ...     1  1451610000  2016-01-01\n",
              "3480            0      0  2016-01-01 02:00:00  ...     2  1451613600  2016-01-01\n",
              "5779            0      0  2016-01-01 03:00:00  ...     3  1451617200  2016-01-01\n",
              "8075            0      0  2016-01-01 04:00:00  ...     4  1451620800  2016-01-01\n",
              "\n",
              "[5 rows x 31 columns]"
            ]
          },
          "metadata": {
            "tags": []
          },
          "execution_count": 24
        }
      ]
    },
    {
      "cell_type": "code",
      "metadata": {
        "id": "Ft_FyiZgm1zX",
        "colab_type": "code",
        "colab": {}
      },
      "source": [
        "from fastai.tabular import *"
      ],
      "execution_count": 0,
      "outputs": []
    },
    {
      "cell_type": "code",
      "metadata": {
        "id": "wFIauglj1eCh",
        "colab_type": "code",
        "outputId": "a2cfbac3-1768-4c50-9e27-01b4cfb4f9f4",
        "colab": {
          "base_uri": "https://localhost:8080/",
          "height": 153
        }
      },
      "source": [
        "# drop the timestamp column as its now covered by date etc.\n",
        "if 'timestamp' in train:\n",
        "  train.drop('timestamp', axis=1, inplace=True)  \n",
        "\n",
        "train.columns"
      ],
      "execution_count": 0,
      "outputs": [
        {
          "output_type": "execute_result",
          "data": {
            "text/plain": [
              "Index(['building_id', 'meter', 'meter_reading', 'site_id', 'primary_use',\n",
              "       'square_feet', 'year_built', 'floor_count', 'air_temperature',\n",
              "       'cloud_coverage', 'dew_temperature', 'precip_depth_1_hr',\n",
              "       'sea_level_pressure', 'wind_direction', 'wind_speed', 'Year', 'Month',\n",
              "       'Week', 'Day', 'Dayofweek', 'Dayofyear', 'Is_month_end',\n",
              "       'Is_month_start', 'Is_quarter_end', 'Is_quarter_start', 'Is_year_end',\n",
              "       'Is_year_start', 'Hour', 'Elapsed', 'date'],\n",
              "      dtype='object')"
            ]
          },
          "metadata": {
            "tags": []
          },
          "execution_count": 26
        }
      ]
    },
    {
      "cell_type": "code",
      "metadata": {
        "id": "zGqF9HJK2eC-",
        "colab_type": "code",
        "outputId": "cc99f044-0c0f-464b-b562-c24125721aba",
        "colab": {
          "base_uri": "https://localhost:8080/",
          "height": 170
        }
      },
      "source": [
        "train.meter_reading.describe()"
      ],
      "execution_count": 0,
      "outputs": [
        {
          "output_type": "execute_result",
          "data": {
            "text/plain": [
              "count    2.012560e+07\n",
              "mean     2.050410e+03\n",
              "std      1.535616e+05\n",
              "min      0.000000e+00\n",
              "25%      1.830000e+01\n",
              "50%      7.875000e+01\n",
              "75%      2.678430e+02\n",
              "max      2.190470e+07\n",
              "Name: meter_reading, dtype: float64"
            ]
          },
          "metadata": {
            "tags": []
          },
          "execution_count": 27
        }
      ]
    },
    {
      "cell_type": "code",
      "metadata": {
        "id": "z5PcTZtNv-AD",
        "colab_type": "code",
        "colab": {}
      },
      "source": [
        "train = train.set_index(\"Date\")"
      ],
      "execution_count": 0,
      "outputs": []
    },
    {
      "cell_type": "code",
      "metadata": {
        "id": "W_kTl3RpvAjS",
        "colab_type": "code",
        "outputId": "ef50e546-b753-431e-d130-8b88bd1c902b",
        "colab": {
          "base_uri": "https://localhost:8080/",
          "height": 359
        }
      },
      "source": [
        "columns = ['building_id', 'air_temperature', 'precip_depth_1_hr', 'cloud_coverage', 'dew_temperature']\n",
        "df = train[columns]\n",
        "# df = df.set_index('date')\n",
        "# df.set_index('date', inplace=True, drop=False)\n",
        "df.head(10)"
      ],
      "execution_count": 0,
      "outputs": [
        {
          "output_type": "execute_result",
          "data": {
            "text/html": [
              "<div>\n",
              "<style scoped>\n",
              "    .dataframe tbody tr th:only-of-type {\n",
              "        vertical-align: middle;\n",
              "    }\n",
              "\n",
              "    .dataframe tbody tr th {\n",
              "        vertical-align: top;\n",
              "    }\n",
              "\n",
              "    .dataframe thead th {\n",
              "        text-align: right;\n",
              "    }\n",
              "</style>\n",
              "<table border=\"1\" class=\"dataframe\">\n",
              "  <thead>\n",
              "    <tr style=\"text-align: right;\">\n",
              "      <th></th>\n",
              "      <th>building_id</th>\n",
              "      <th>air_temperature</th>\n",
              "      <th>precip_depth_1_hr</th>\n",
              "      <th>cloud_coverage</th>\n",
              "      <th>dew_temperature</th>\n",
              "    </tr>\n",
              "  </thead>\n",
              "  <tbody>\n",
              "    <tr>\n",
              "      <th>0</th>\n",
              "      <td>0</td>\n",
              "      <td>25.000000</td>\n",
              "      <td>-2</td>\n",
              "      <td>6</td>\n",
              "      <td>20.0</td>\n",
              "    </tr>\n",
              "    <tr>\n",
              "      <th>1187</th>\n",
              "      <td>0</td>\n",
              "      <td>24.400000</td>\n",
              "      <td>-1</td>\n",
              "      <td>255</td>\n",
              "      <td>21.1</td>\n",
              "    </tr>\n",
              "    <tr>\n",
              "      <th>3480</th>\n",
              "      <td>0</td>\n",
              "      <td>22.799999</td>\n",
              "      <td>0</td>\n",
              "      <td>2</td>\n",
              "      <td>21.1</td>\n",
              "    </tr>\n",
              "    <tr>\n",
              "      <th>5779</th>\n",
              "      <td>0</td>\n",
              "      <td>21.100000</td>\n",
              "      <td>0</td>\n",
              "      <td>2</td>\n",
              "      <td>20.6</td>\n",
              "    </tr>\n",
              "    <tr>\n",
              "      <th>8075</th>\n",
              "      <td>0</td>\n",
              "      <td>20.000000</td>\n",
              "      <td>-1</td>\n",
              "      <td>2</td>\n",
              "      <td>20.0</td>\n",
              "    </tr>\n",
              "    <tr>\n",
              "      <th>10134</th>\n",
              "      <td>0</td>\n",
              "      <td>19.400000</td>\n",
              "      <td>0</td>\n",
              "      <td>255</td>\n",
              "      <td>19.4</td>\n",
              "    </tr>\n",
              "    <tr>\n",
              "      <th>12191</th>\n",
              "      <td>0</td>\n",
              "      <td>21.100000</td>\n",
              "      <td>-1</td>\n",
              "      <td>6</td>\n",
              "      <td>21.1</td>\n",
              "    </tr>\n",
              "    <tr>\n",
              "      <th>14247</th>\n",
              "      <td>0</td>\n",
              "      <td>21.100000</td>\n",
              "      <td>0</td>\n",
              "      <td>255</td>\n",
              "      <td>21.1</td>\n",
              "    </tr>\n",
              "    <tr>\n",
              "      <th>16304</th>\n",
              "      <td>0</td>\n",
              "      <td>20.600000</td>\n",
              "      <td>0</td>\n",
              "      <td>255</td>\n",
              "      <td>20.0</td>\n",
              "    </tr>\n",
              "    <tr>\n",
              "      <th>18361</th>\n",
              "      <td>0</td>\n",
              "      <td>21.100000</td>\n",
              "      <td>0</td>\n",
              "      <td>255</td>\n",
              "      <td>20.6</td>\n",
              "    </tr>\n",
              "  </tbody>\n",
              "</table>\n",
              "</div>"
            ],
            "text/plain": [
              "       building_id  air_temperature  ...  cloud_coverage  dew_temperature\n",
              "0                0        25.000000  ...               6             20.0\n",
              "1187             0        24.400000  ...             255             21.1\n",
              "3480             0        22.799999  ...               2             21.1\n",
              "5779             0        21.100000  ...               2             20.6\n",
              "8075             0        20.000000  ...               2             20.0\n",
              "10134            0        19.400000  ...             255             19.4\n",
              "12191            0        21.100000  ...               6             21.1\n",
              "14247            0        21.100000  ...             255             21.1\n",
              "16304            0        20.600000  ...             255             20.0\n",
              "18361            0        21.100000  ...             255             20.6\n",
              "\n",
              "[10 rows x 5 columns]"
            ]
          },
          "metadata": {
            "tags": []
          },
          "execution_count": 41
        }
      ]
    },
    {
      "cell_type": "code",
      "metadata": {
        "id": "fZo7DD5ow-6-",
        "colab_type": "code",
        "colab": {}
      },
      "source": [
        "bwd = df[columns].groupby(\"building_id\").rolling(7, min_periods=1).sum()"
      ],
      "execution_count": 0,
      "outputs": []
    },
    {
      "cell_type": "code",
      "metadata": {
        "id": "MS8QPlRozQFc",
        "colab_type": "code",
        "outputId": "9184753a-0608-4d67-aef3-3ddd8abf5314",
        "colab": {
          "base_uri": "https://localhost:8080/",
          "height": 390
        }
      },
      "source": [
        "bwd.head(10)"
      ],
      "execution_count": 0,
      "outputs": [
        {
          "output_type": "execute_result",
          "data": {
            "text/html": [
              "<div>\n",
              "<style scoped>\n",
              "    .dataframe tbody tr th:only-of-type {\n",
              "        vertical-align: middle;\n",
              "    }\n",
              "\n",
              "    .dataframe tbody tr th {\n",
              "        vertical-align: top;\n",
              "    }\n",
              "\n",
              "    .dataframe thead th {\n",
              "        text-align: right;\n",
              "    }\n",
              "</style>\n",
              "<table border=\"1\" class=\"dataframe\">\n",
              "  <thead>\n",
              "    <tr style=\"text-align: right;\">\n",
              "      <th></th>\n",
              "      <th></th>\n",
              "      <th>building_id</th>\n",
              "      <th>air_temperature</th>\n",
              "      <th>precip_depth_1_hr</th>\n",
              "      <th>cloud_coverage</th>\n",
              "      <th>dew_temperature</th>\n",
              "    </tr>\n",
              "    <tr>\n",
              "      <th>building_id</th>\n",
              "      <th></th>\n",
              "      <th></th>\n",
              "      <th></th>\n",
              "      <th></th>\n",
              "      <th></th>\n",
              "      <th></th>\n",
              "    </tr>\n",
              "  </thead>\n",
              "  <tbody>\n",
              "    <tr>\n",
              "      <th rowspan=\"10\" valign=\"top\">0</th>\n",
              "      <th>0</th>\n",
              "      <td>0.0</td>\n",
              "      <td>25.000000</td>\n",
              "      <td>-2.0</td>\n",
              "      <td>6.0</td>\n",
              "      <td>20.000000</td>\n",
              "    </tr>\n",
              "    <tr>\n",
              "      <th>1187</th>\n",
              "      <td>0.0</td>\n",
              "      <td>49.400000</td>\n",
              "      <td>-3.0</td>\n",
              "      <td>261.0</td>\n",
              "      <td>41.100000</td>\n",
              "    </tr>\n",
              "    <tr>\n",
              "      <th>3480</th>\n",
              "      <td>0.0</td>\n",
              "      <td>72.199999</td>\n",
              "      <td>-3.0</td>\n",
              "      <td>263.0</td>\n",
              "      <td>62.200001</td>\n",
              "    </tr>\n",
              "    <tr>\n",
              "      <th>5779</th>\n",
              "      <td>0.0</td>\n",
              "      <td>93.299999</td>\n",
              "      <td>-3.0</td>\n",
              "      <td>265.0</td>\n",
              "      <td>82.800001</td>\n",
              "    </tr>\n",
              "    <tr>\n",
              "      <th>8075</th>\n",
              "      <td>0.0</td>\n",
              "      <td>113.299999</td>\n",
              "      <td>-4.0</td>\n",
              "      <td>267.0</td>\n",
              "      <td>102.800001</td>\n",
              "    </tr>\n",
              "    <tr>\n",
              "      <th>10134</th>\n",
              "      <td>0.0</td>\n",
              "      <td>132.699999</td>\n",
              "      <td>-4.0</td>\n",
              "      <td>522.0</td>\n",
              "      <td>122.200001</td>\n",
              "    </tr>\n",
              "    <tr>\n",
              "      <th>12191</th>\n",
              "      <td>0.0</td>\n",
              "      <td>153.799999</td>\n",
              "      <td>-5.0</td>\n",
              "      <td>528.0</td>\n",
              "      <td>143.300001</td>\n",
              "    </tr>\n",
              "    <tr>\n",
              "      <th>14247</th>\n",
              "      <td>0.0</td>\n",
              "      <td>149.900000</td>\n",
              "      <td>-3.0</td>\n",
              "      <td>777.0</td>\n",
              "      <td>144.400002</td>\n",
              "    </tr>\n",
              "    <tr>\n",
              "      <th>16304</th>\n",
              "      <td>0.0</td>\n",
              "      <td>146.100000</td>\n",
              "      <td>-2.0</td>\n",
              "      <td>777.0</td>\n",
              "      <td>143.300001</td>\n",
              "    </tr>\n",
              "    <tr>\n",
              "      <th>18361</th>\n",
              "      <td>0.0</td>\n",
              "      <td>144.400002</td>\n",
              "      <td>-2.0</td>\n",
              "      <td>1030.0</td>\n",
              "      <td>142.800001</td>\n",
              "    </tr>\n",
              "  </tbody>\n",
              "</table>\n",
              "</div>"
            ],
            "text/plain": [
              "                   building_id  ...  dew_temperature\n",
              "building_id                     ...                 \n",
              "0           0              0.0  ...        20.000000\n",
              "            1187           0.0  ...        41.100000\n",
              "            3480           0.0  ...        62.200001\n",
              "            5779           0.0  ...        82.800001\n",
              "            8075           0.0  ...       102.800001\n",
              "            10134          0.0  ...       122.200001\n",
              "            12191          0.0  ...       143.300001\n",
              "            14247          0.0  ...       144.400002\n",
              "            16304          0.0  ...       143.300001\n",
              "            18361          0.0  ...       142.800001\n",
              "\n",
              "[10 rows x 5 columns]"
            ]
          },
          "metadata": {
            "tags": []
          },
          "execution_count": 43
        }
      ]
    },
    {
      "cell_type": "code",
      "metadata": {
        "id": "a95egpYZ0Y2P",
        "colab_type": "code",
        "colab": {}
      },
      "source": [
        "# fwd = df[['Store']+columns].sort_index(ascending=False\n",
        "#                                       ).groupby(\"Store\").rolling(7, min_periods=1).sum()"
      ],
      "execution_count": 0,
      "outputs": []
    },
    {
      "cell_type": "markdown",
      "metadata": {
        "id": "00ii_6mCtRmF",
        "colab_type": "text"
      },
      "source": [
        "# Model Training"
      ]
    },
    {
      "cell_type": "code",
      "metadata": {
        "id": "SAfKIuPMpoOh",
        "colab_type": "code",
        "colab": {}
      },
      "source": [
        "# cat_names = [\"building_id\", \"meter\", \"site_id\", \"primary_use\", \"floor_count\", \"hour\", \"day\", \"weekday\", \"month\", \"meter\"]\n",
        "# cont_names = [\"square_feet\", \"year_built\", \"air_temperature\", \"cloud_coverage\", \"dew_temperature\"]\n",
        "# drop_cols = [\"precip_depth_1_hr\", \"sea_level_pressure\", \"wind_direction\", \"wind_speed\"]\n",
        "\n",
        "cat_names = [ 'building_id', 'meter', 'site_id', 'primary_use', 'floor_count', 'Year', 'Month',\n",
        "              'Week', 'Day', 'Dayofweek', 'Dayofyear', 'Is_month_end', 'Is_month_start', 'Is_quarter_end', 'Is_quarter_start', 'Is_year_end',\n",
        "              'Is_year_start', 'Hour', 'Elapsed' ]\n",
        "\n",
        "cont_names = [ 'square_feet', 'year_built', 'air_temperature', 'cloud_coverage', 'dew_temperature', 'precip_depth_1_hr',\n",
        "               'sea_level_pressure', 'wind_direction', 'wind_speed' ]\n",
        "\n",
        "drop_cols = [ 'date' ]\n",
        "\n",
        "dep_var = 'meter_reading'\n",
        "\n",
        "procs = [FillMissing, Categorify, Normalize]"
      ],
      "execution_count": 0,
      "outputs": []
    },
    {
      "cell_type": "code",
      "metadata": {
        "id": "xN9c7Atlrkxl",
        "colab_type": "code",
        "outputId": "966787ec-e4de-4cc3-c851-d8c456532e32",
        "colab": {
          "base_uri": "https://localhost:8080/",
          "height": 52
        }
      },
      "source": [
        "data = (TabularList.from_df(train, path=path_energy, cat_names=cat_names, cont_names=cont_names, procs=procs)\n",
        "                           .split_by_idx(list(range(800,1000)))                           \n",
        "                           .label_from_df(cols=dep_var, label_cls=FloatList, log=True)                          \n",
        "                           .databunch())"
      ],
      "execution_count": 0,
      "outputs": [
        {
          "output_type": "stream",
          "text": [
            "/usr/local/lib/python3.6/dist-packages/fastai/data_block.py:445: RuntimeWarning: divide by zero encountered in log\n",
            "  return FloatItem(np.log(o) if self.log else o)\n"
          ],
          "name": "stderr"
        }
      ]
    },
    {
      "cell_type": "code",
      "metadata": {
        "id": "QlPlZHs5t49y",
        "colab_type": "code",
        "outputId": "68d002f4-099f-4ab2-aa89-eac3ab89391b",
        "colab": {
          "base_uri": "https://localhost:8080/",
          "height": 436
        }
      },
      "source": [
        "data.show_batch(rows=10)"
      ],
      "execution_count": 0,
      "outputs": [
        {
          "output_type": "stream",
          "text": [
            "/usr/local/lib/python3.6/dist-packages/fastai/data_block.py:445: RuntimeWarning: divide by zero encountered in log\n",
            "  return FloatItem(np.log(o) if self.log else o)\n"
          ],
          "name": "stderr"
        },
        {
          "output_type": "display_data",
          "data": {
            "text/html": [
              "<table border=\"1\" class=\"dataframe\">\n",
              "  <thead>\n",
              "    <tr style=\"text-align: right;\">\n",
              "      <th>building_id</th>\n",
              "      <th>meter</th>\n",
              "      <th>site_id</th>\n",
              "      <th>primary_use</th>\n",
              "      <th>floor_count</th>\n",
              "      <th>Year</th>\n",
              "      <th>Month</th>\n",
              "      <th>Week</th>\n",
              "      <th>Day</th>\n",
              "      <th>Dayofweek</th>\n",
              "      <th>Dayofyear</th>\n",
              "      <th>Is_month_end</th>\n",
              "      <th>Is_month_start</th>\n",
              "      <th>Is_quarter_end</th>\n",
              "      <th>Is_quarter_start</th>\n",
              "      <th>Is_year_end</th>\n",
              "      <th>Is_year_start</th>\n",
              "      <th>Hour</th>\n",
              "      <th>Elapsed</th>\n",
              "      <th>square_feet</th>\n",
              "      <th>year_built</th>\n",
              "      <th>air_temperature</th>\n",
              "      <th>cloud_coverage</th>\n",
              "      <th>dew_temperature</th>\n",
              "      <th>precip_depth_1_hr</th>\n",
              "      <th>sea_level_pressure</th>\n",
              "      <th>wind_direction</th>\n",
              "      <th>wind_speed</th>\n",
              "      <th>target</th>\n",
              "    </tr>\n",
              "  </thead>\n",
              "  <tbody>\n",
              "    <tr>\n",
              "      <td>596</td>\n",
              "      <td>0</td>\n",
              "      <td>4</td>\n",
              "      <td>Education</td>\n",
              "      <td>4</td>\n",
              "      <td>2016</td>\n",
              "      <td>8</td>\n",
              "      <td>32</td>\n",
              "      <td>13</td>\n",
              "      <td>5</td>\n",
              "      <td>226</td>\n",
              "      <td>0</td>\n",
              "      <td>0</td>\n",
              "      <td>0</td>\n",
              "      <td>0</td>\n",
              "      <td>0</td>\n",
              "      <td>0</td>\n",
              "      <td>19</td>\n",
              "      <td>1471114800</td>\n",
              "      <td>-0.7623</td>\n",
              "      <td>-0.0926</td>\n",
              "      <td>0.3130</td>\n",
              "      <td>-0.8748</td>\n",
              "      <td>0.5464</td>\n",
              "      <td>-0.0421</td>\n",
              "      <td>0.9716</td>\n",
              "      <td>-0.2631</td>\n",
              "      <td>0.0425</td>\n",
              "      <td>2.014903</td>\n",
              "    </tr>\n",
              "    <tr>\n",
              "      <td>1256</td>\n",
              "      <td>2</td>\n",
              "      <td>14</td>\n",
              "      <td>Office</td>\n",
              "      <td>0</td>\n",
              "      <td>2016</td>\n",
              "      <td>10</td>\n",
              "      <td>39</td>\n",
              "      <td>1</td>\n",
              "      <td>5</td>\n",
              "      <td>275</td>\n",
              "      <td>0</td>\n",
              "      <td>1</td>\n",
              "      <td>0</td>\n",
              "      <td>1</td>\n",
              "      <td>0</td>\n",
              "      <td>0</td>\n",
              "      <td>6</td>\n",
              "      <td>1475301600</td>\n",
              "      <td>-0.5963</td>\n",
              "      <td>-0.7091</td>\n",
              "      <td>-0.2529</td>\n",
              "      <td>1.1418</td>\n",
              "      <td>0.4376</td>\n",
              "      <td>-0.0421</td>\n",
              "      <td>1.0305</td>\n",
              "      <td>-0.2766</td>\n",
              "      <td>0.9657</td>\n",
              "      <td>5.0732155</td>\n",
              "    </tr>\n",
              "    <tr>\n",
              "      <td>958</td>\n",
              "      <td>2</td>\n",
              "      <td>9</td>\n",
              "      <td>Entertainment/public assembly</td>\n",
              "      <td>0</td>\n",
              "      <td>2016</td>\n",
              "      <td>5</td>\n",
              "      <td>18</td>\n",
              "      <td>2</td>\n",
              "      <td>0</td>\n",
              "      <td>123</td>\n",
              "      <td>0</td>\n",
              "      <td>0</td>\n",
              "      <td>0</td>\n",
              "      <td>0</td>\n",
              "      <td>0</td>\n",
              "      <td>0</td>\n",
              "      <td>4</td>\n",
              "      <td>1462161600</td>\n",
              "      <td>1.0843</td>\n",
              "      <td>-0.7091</td>\n",
              "      <td>0.5264</td>\n",
              "      <td>1.1418</td>\n",
              "      <td>0.5464</td>\n",
              "      <td>-0.0421</td>\n",
              "      <td>0.9691</td>\n",
              "      <td>-0.2583</td>\n",
              "      <td>-0.1773</td>\n",
              "      <td>3.948355</td>\n",
              "    </tr>\n",
              "    <tr>\n",
              "      <td>1429</td>\n",
              "      <td>0</td>\n",
              "      <td>15</td>\n",
              "      <td>Education</td>\n",
              "      <td>0</td>\n",
              "      <td>2016</td>\n",
              "      <td>11</td>\n",
              "      <td>46</td>\n",
              "      <td>15</td>\n",
              "      <td>1</td>\n",
              "      <td>320</td>\n",
              "      <td>0</td>\n",
              "      <td>0</td>\n",
              "      <td>0</td>\n",
              "      <td>0</td>\n",
              "      <td>0</td>\n",
              "      <td>0</td>\n",
              "      <td>23</td>\n",
              "      <td>1479250800</td>\n",
              "      <td>-0.5746</td>\n",
              "      <td>1.9367</td>\n",
              "      <td>-0.7630</td>\n",
              "      <td>1.1418</td>\n",
              "      <td>-0.4925</td>\n",
              "      <td>-0.1883</td>\n",
              "      <td>0.9384</td>\n",
              "      <td>-0.2595</td>\n",
              "      <td>-0.8807</td>\n",
              "      <td>3.6041381</td>\n",
              "    </tr>\n",
              "    <tr>\n",
              "      <td>238</td>\n",
              "      <td>1</td>\n",
              "      <td>2</td>\n",
              "      <td>Office</td>\n",
              "      <td>0</td>\n",
              "      <td>2016</td>\n",
              "      <td>11</td>\n",
              "      <td>47</td>\n",
              "      <td>26</td>\n",
              "      <td>5</td>\n",
              "      <td>331</td>\n",
              "      <td>0</td>\n",
              "      <td>0</td>\n",
              "      <td>0</td>\n",
              "      <td>0</td>\n",
              "      <td>0</td>\n",
              "      <td>0</td>\n",
              "      <td>13</td>\n",
              "      <td>1480165200</td>\n",
              "      <td>-0.5357</td>\n",
              "      <td>-0.7091</td>\n",
              "      <td>0.0625</td>\n",
              "      <td>-0.8589</td>\n",
              "      <td>-0.8289</td>\n",
              "      <td>-0.0421</td>\n",
              "      <td>0.9742</td>\n",
              "      <td>-0.2741</td>\n",
              "      <td>0.0425</td>\n",
              "      <td>4.3158026</td>\n",
              "    </tr>\n",
              "    <tr>\n",
              "      <td>778</td>\n",
              "      <td>1</td>\n",
              "      <td>6</td>\n",
              "      <td>Entertainment/public assembly</td>\n",
              "      <td>0</td>\n",
              "      <td>2016</td>\n",
              "      <td>4</td>\n",
              "      <td>14</td>\n",
              "      <td>7</td>\n",
              "      <td>3</td>\n",
              "      <td>98</td>\n",
              "      <td>0</td>\n",
              "      <td>0</td>\n",
              "      <td>0</td>\n",
              "      <td>0</td>\n",
              "      <td>0</td>\n",
              "      <td>0</td>\n",
              "      <td>12</td>\n",
              "      <td>1460030400</td>\n",
              "      <td>0.0047</td>\n",
              "      <td>-0.7091</td>\n",
              "      <td>-0.8187</td>\n",
              "      <td>1.1418</td>\n",
              "      <td>-0.1660</td>\n",
              "      <td>8.8739</td>\n",
              "      <td>0.8504</td>\n",
              "      <td>-0.2766</td>\n",
              "      <td>-0.6169</td>\n",
              "      <td>-inf</td>\n",
              "    </tr>\n",
              "    <tr>\n",
              "      <td>150</td>\n",
              "      <td>0</td>\n",
              "      <td>1</td>\n",
              "      <td>Office</td>\n",
              "      <td>8</td>\n",
              "      <td>2016</td>\n",
              "      <td>10</td>\n",
              "      <td>42</td>\n",
              "      <td>20</td>\n",
              "      <td>3</td>\n",
              "      <td>294</td>\n",
              "      <td>0</td>\n",
              "      <td>0</td>\n",
              "      <td>0</td>\n",
              "      <td>0</td>\n",
              "      <td>0</td>\n",
              "      <td>0</td>\n",
              "      <td>20</td>\n",
              "      <td>1476993600</td>\n",
              "      <td>-0.3596</td>\n",
              "      <td>0.7294</td>\n",
              "      <td>-0.5868</td>\n",
              "      <td>1.1418</td>\n",
              "      <td>-0.0373</td>\n",
              "      <td>-0.3344</td>\n",
              "      <td>1.0212</td>\n",
              "      <td>-0.2595</td>\n",
              "      <td>-0.3971</td>\n",
              "      <td>6.0275555</td>\n",
              "    </tr>\n",
              "    <tr>\n",
              "      <td>429</td>\n",
              "      <td>0</td>\n",
              "      <td>3</td>\n",
              "      <td>Public services</td>\n",
              "      <td>0</td>\n",
              "      <td>2016</td>\n",
              "      <td>1</td>\n",
              "      <td>4</td>\n",
              "      <td>27</td>\n",
              "      <td>2</td>\n",
              "      <td>27</td>\n",
              "      <td>0</td>\n",
              "      <td>0</td>\n",
              "      <td>0</td>\n",
              "      <td>0</td>\n",
              "      <td>0</td>\n",
              "      <td>0</td>\n",
              "      <td>2</td>\n",
              "      <td>1453860000</td>\n",
              "      <td>-0.8181</td>\n",
              "      <td>0.0872</td>\n",
              "      <td>-0.8651</td>\n",
              "      <td>1.1418</td>\n",
              "      <td>-0.6013</td>\n",
              "      <td>-0.0421</td>\n",
              "      <td>0.9759</td>\n",
              "      <td>-0.2686</td>\n",
              "      <td>0.0425</td>\n",
              "      <td>2.4510052</td>\n",
              "    </tr>\n",
              "    <tr>\n",
              "      <td>1407</td>\n",
              "      <td>1</td>\n",
              "      <td>15</td>\n",
              "      <td>Lodging/residential</td>\n",
              "      <td>0</td>\n",
              "      <td>2016</td>\n",
              "      <td>8</td>\n",
              "      <td>33</td>\n",
              "      <td>20</td>\n",
              "      <td>5</td>\n",
              "      <td>233</td>\n",
              "      <td>0</td>\n",
              "      <td>0</td>\n",
              "      <td>0</td>\n",
              "      <td>0</td>\n",
              "      <td>0</td>\n",
              "      <td>0</td>\n",
              "      <td>8</td>\n",
              "      <td>1471680000</td>\n",
              "      <td>-0.2103</td>\n",
              "      <td>2.0394</td>\n",
              "      <td>0.0069</td>\n",
              "      <td>-0.8908</td>\n",
              "      <td>0.6552</td>\n",
              "      <td>-0.3344</td>\n",
              "      <td>0.9588</td>\n",
              "      <td>-0.2796</td>\n",
              "      <td>-1.5402</td>\n",
              "      <td>5.0891447</td>\n",
              "    </tr>\n",
              "    <tr>\n",
              "      <td>246</td>\n",
              "      <td>0</td>\n",
              "      <td>2</td>\n",
              "      <td>Office</td>\n",
              "      <td>0</td>\n",
              "      <td>2016</td>\n",
              "      <td>4</td>\n",
              "      <td>15</td>\n",
              "      <td>17</td>\n",
              "      <td>6</td>\n",
              "      <td>108</td>\n",
              "      <td>0</td>\n",
              "      <td>0</td>\n",
              "      <td>0</td>\n",
              "      <td>0</td>\n",
              "      <td>0</td>\n",
              "      <td>0</td>\n",
              "      <td>16</td>\n",
              "      <td>1460908800</td>\n",
              "      <td>0.8079</td>\n",
              "      <td>1.0376</td>\n",
              "      <td>0.5264</td>\n",
              "      <td>-0.8748</td>\n",
              "      <td>-1.0465</td>\n",
              "      <td>-0.0421</td>\n",
              "      <td>0.9631</td>\n",
              "      <td>-0.2759</td>\n",
              "      <td>0.7019</td>\n",
              "      <td>5.8795547</td>\n",
              "    </tr>\n",
              "  </tbody>\n",
              "</table>"
            ],
            "text/plain": [
              "<IPython.core.display.HTML object>"
            ]
          },
          "metadata": {
            "tags": []
          }
        }
      ]
    },
    {
      "cell_type": "code",
      "metadata": {
        "id": "tnoE75ChuE5F",
        "colab_type": "code",
        "colab": {}
      },
      "source": [
        "learn = tabular_learner(data, layers=[200,100], metrics=accuracy)"
      ],
      "execution_count": 0,
      "outputs": []
    },
    {
      "cell_type": "code",
      "metadata": {
        "id": "sWaZztBhuIZ9",
        "colab_type": "code",
        "outputId": "1db1745f-8871-4158-aaab-f0df0a97f448",
        "colab": {
          "base_uri": "https://localhost:8080/",
          "height": 362
        }
      },
      "source": [
        "learn.fit(1, 1e-2)"
      ],
      "execution_count": 0,
      "outputs": [
        {
          "output_type": "display_data",
          "data": {
            "text/html": [
              "<table border=\"1\" class=\"dataframe\">\n",
              "  <thead>\n",
              "    <tr style=\"text-align: left;\">\n",
              "      <th>epoch</th>\n",
              "      <th>train_loss</th>\n",
              "      <th>valid_loss</th>\n",
              "      <th>accuracy</th>\n",
              "      <th>time</th>\n",
              "    </tr>\n",
              "  </thead>\n",
              "  <tbody>\n",
              "    <tr>\n",
              "      <td>0</td>\n",
              "      <td>nan</td>\n",
              "      <td>nan</td>\n",
              "      <td>0.000000</td>\n",
              "      <td>3:47:39</td>\n",
              "    </tr>\n",
              "  </tbody>\n",
              "</table>"
            ],
            "text/plain": [
              "<IPython.core.display.HTML object>"
            ]
          },
          "metadata": {
            "tags": []
          }
        },
        {
          "output_type": "stream",
          "text": [
            "/usr/local/lib/python3.6/dist-packages/fastai/data_block.py:445: RuntimeWarning: divide by zero encountered in log\n",
            "  return FloatItem(np.log(o) if self.log else o)\n",
            "/usr/local/lib/python3.6/dist-packages/fastai/data_block.py:445: RuntimeWarning: divide by zero encountered in log\n",
            "  return FloatItem(np.log(o) if self.log else o)\n",
            "/usr/local/lib/python3.6/dist-packages/fastai/data_block.py:445: RuntimeWarning: divide by zero encountered in log\n",
            "  return FloatItem(np.log(o) if self.log else o)\n",
            "/usr/local/lib/python3.6/dist-packages/fastai/data_block.py:445: RuntimeWarning: divide by zero encountered in log\n",
            "  return FloatItem(np.log(o) if self.log else o)\n",
            "/usr/local/lib/python3.6/dist-packages/fastai/data_block.py:445: RuntimeWarning: divide by zero encountered in log\n",
            "  return FloatItem(np.log(o) if self.log else o)\n",
            "/usr/local/lib/python3.6/dist-packages/fastai/data_block.py:445: RuntimeWarning: divide by zero encountered in log\n",
            "  return FloatItem(np.log(o) if self.log else o)\n",
            "/usr/local/lib/python3.6/dist-packages/fastai/data_block.py:445: RuntimeWarning: divide by zero encountered in log\n",
            "  return FloatItem(np.log(o) if self.log else o)\n",
            "/usr/local/lib/python3.6/dist-packages/fastai/data_block.py:445: RuntimeWarning: divide by zero encountered in log\n",
            "  return FloatItem(np.log(o) if self.log else o)\n"
          ],
          "name": "stderr"
        }
      ]
    },
    {
      "cell_type": "code",
      "metadata": {
        "id": "OdSPyn16m7Hg",
        "colab_type": "code",
        "colab": {}
      },
      "source": [
        "learn.save(google_drive/'energy-2')\n",
        "learn.export(google_drive/'energy-2.pkl')"
      ],
      "execution_count": 0,
      "outputs": []
    },
    {
      "cell_type": "code",
      "metadata": {
        "id": "cRUqEjq5m54a",
        "colab_type": "code",
        "colab": {}
      },
      "source": [
        "import gc\n",
        "del train\n",
        "\n",
        "gc.collect()"
      ],
      "execution_count": 0,
      "outputs": []
    },
    {
      "cell_type": "code",
      "metadata": {
        "id": "fJlyudgAqKg2",
        "colab_type": "code",
        "colab": {}
      },
      "source": [
        "test_df = create_dataframe( path_energy, \"test.csv.zip\", \"weather_test.csv.zip\" ):"
      ],
      "execution_count": 0,
      "outputs": []
    },
    {
      "cell_type": "code",
      "metadata": {
        "id": "5bZRJfqev3Ln",
        "colab_type": "code",
        "colab": {}
      },
      "source": [
        "test_image_list = TabularList.from_df(test_df, path=path_energy, cat_names=cat_names, cont_names=cont_names, procs=procs)\n"
      ],
      "execution_count": 0,
      "outputs": []
    },
    {
      "cell_type": "code",
      "metadata": {
        "id": "Ek99ApFxur8f",
        "colab_type": "code",
        "colab": {}
      },
      "source": [
        "learn = load_learner(google_drive/'energy-2.pkl')"
      ],
      "execution_count": 0,
      "outputs": []
    },
    {
      "cell_type": "code",
      "metadata": {
        "id": "xdjTeE8avk2g",
        "colab_type": "code",
        "colab": {}
      },
      "source": [
        "learn.data.add_test(test_image_list)\n",
        "preds,_ = learn.get_preds(DatasetType.Test)"
      ],
      "execution_count": 0,
      "outputs": []
    },
    {
      "cell_type": "code",
      "metadata": {
        "id": "ZfINjh9xwpsR",
        "colab_type": "code",
        "colab": {}
      },
      "source": [
        "res = np.concatenate(preds)"
      ],
      "execution_count": 0,
      "outputs": []
    },
    {
      "cell_type": "markdown",
      "metadata": {
        "id": "QTMRMWdxeCTZ",
        "colab_type": "text"
      },
      "source": [
        ""
      ]
    },
    {
      "cell_type": "markdown",
      "metadata": {
        "id": "3QCFRlZGeBrs",
        "colab_type": "text"
      },
      "source": [
        ""
      ]
    },
    {
      "cell_type": "code",
      "metadata": {
        "id": "6UKMcH0EwtZZ",
        "colab_type": "code",
        "colab": {}
      },
      "source": [
        "pd.DataFrame(res).describe()"
      ],
      "execution_count": 0,
      "outputs": []
    },
    {
      "cell_type": "code",
      "metadata": {
        "id": "ctos9FLcwwDv",
        "colab_type": "code",
        "colab": {}
      },
      "source": [
        "res.shape"
      ],
      "execution_count": 0,
      "outputs": []
    },
    {
      "cell_type": "code",
      "metadata": {
        "id": "ygI1dLn3qYtF",
        "colab_type": "code",
        "colab": {}
      },
      "source": [
        "unzip_and_delete( path_energy, \"sample_submission.csv.zip\" )"
      ],
      "execution_count": 0,
      "outputs": []
    },
    {
      "cell_type": "code",
      "metadata": {
        "id": "S5zqPbUhwzot",
        "colab_type": "code",
        "colab": {}
      },
      "source": [
        "sub = pd.read_csv(path_energy/\"sample_submission.csv\")"
      ],
      "execution_count": 0,
      "outputs": []
    },
    {
      "cell_type": "code",
      "metadata": {
        "id": "NlEtGcrBw2vl",
        "colab_type": "code",
        "colab": {}
      },
      "source": [
        "sub[\"meter_reading\"] = res"
      ],
      "execution_count": 0,
      "outputs": []
    },
    {
      "cell_type": "code",
      "metadata": {
        "id": "7D_wqAdww5PE",
        "colab_type": "code",
        "colab": {}
      },
      "source": [
        "sub.to_csv(path_energy/\"submission.csv\", index = False)"
      ],
      "execution_count": 0,
      "outputs": []
    },
    {
      "cell_type": "code",
      "metadata": {
        "id": "lDEIDP9jw7rm",
        "colab_type": "code",
        "colab": {}
      },
      "source": [
        "!kaggle competitions submit ashrae-energy-prediction -f {path_energy/'submission.csv'} -m \"energy 2\""
      ],
      "execution_count": 0,
      "outputs": []
    },
    {
      "cell_type": "code",
      "metadata": {
        "id": "OMsndwn0xGU7",
        "colab_type": "code",
        "colab": {}
      },
      "source": [
        ""
      ],
      "execution_count": 0,
      "outputs": []
    }
  ]
}